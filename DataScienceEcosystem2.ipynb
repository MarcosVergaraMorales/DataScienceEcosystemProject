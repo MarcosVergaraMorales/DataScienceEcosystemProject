{
 "cells": [
  {
   "cell_type": "markdown",
   "id": "f7fa4a6a-2545-4ba1-a9ab-99f664a7ade9",
   "metadata": {
    "tags": []
   },
   "source": [
    "# Data Science Tools and Ecosystem"
   ]
  },
  {
   "cell_type": "markdown",
   "id": "f195d2a9-4c83-48fb-873b-f578e4c0bb76",
   "metadata": {
    "tags": []
   },
   "source": [
    "In this notebook, Data Science Tools and Ecosystem are summarized."
   ]
  },
  {
   "cell_type": "markdown",
   "id": "c87d6d78-ebc9-4963-a9c1-9902dd02d02b",
   "metadata": {
    "tags": []
   },
   "source": [
    "**Objectives:**\n",
    "- List popular language for Data Science\n",
    "- List of commons libraries used by Data Scientists\n",
    "- Table with table Data Science Tools"
   ]
  },
  {
   "cell_type": "markdown",
   "id": "c9c36ccd-2d7a-4218-a2c8-d52f091c2fb8",
   "metadata": {},
   "source": [
    "Some of the popular languages that Data Science use are:\n",
    "1. Python\n",
    "2. R\n",
    "3. SQL\n",
    "4. Julia\n",
    "5. Scala"
   ]
  },
  {
   "cell_type": "markdown",
   "id": "fb397960-3470-41de-83a8-64ec3f51e767",
   "metadata": {
    "jupyter": {
     "outputs_hidden": true
    },
    "tags": []
   },
   "source": [
    "Some of the commonly used libraries used by Data Scientists include:\n",
    "1. Numpy\n",
    "2. Pandas\n",
    "3. Ggplot2\n",
    "4. Tidyverse\n",
    "5. Quanteda"
   ]
  },
  {
   "cell_type": "markdown",
   "id": "4ae7d463-d00a-494f-b91c-f9417a98d2ab",
   "metadata": {
    "tags": []
   },
   "source": [
    "|Data Science Tools|\n",
    "------------------- |\n",
    "|Jupyter Lab        |\n",
    "|Visual Studio Code |\n",
    "|Rstudio            |"
   ]
  },
  {
   "cell_type": "markdown",
   "id": "f925326a-6c59-4c8a-a9a8-9ea67008dde1",
   "metadata": {},
   "source": [
    "### Below are a few examples of evaluating arithmeticexpressions in Python"
   ]
  },
  {
   "cell_type": "code",
   "execution_count": 8,
   "id": "b81eb0d4-27f4-4caf-85fd-99f36c12604a",
   "metadata": {
    "tags": []
   },
   "outputs": [
    {
     "data": {
      "text/plain": [
       "17"
      ]
     },
     "execution_count": 8,
     "metadata": {},
     "output_type": "execute_result"
    }
   ],
   "source": [
    "#This a simple arithmetic expression to multiply then add integer.\n",
    "\n",
    "(3*4)+5"
   ]
  },
  {
   "cell_type": "code",
   "execution_count": 10,
   "id": "86ec5030-7314-4be9-a554-f645a9bc11c7",
   "metadata": {
    "tags": []
   },
   "outputs": [
    {
     "data": {
      "text/plain": [
       "3.3333333333333335"
      ]
     },
     "execution_count": 10,
     "metadata": {},
     "output_type": "execute_result"
    }
   ],
   "source": [
    "#This will convert 200 minutes to hours by diving by 60.\n",
    "\n",
    "200 / 60"
   ]
  },
  {
   "cell_type": "markdown",
   "id": "828d499d-e344-4ee7-a1f3-a69233f6198a",
   "metadata": {},
   "source": [
    "## Author\n",
    "\n",
    "Marcos Vergara Morales"
   ]
  }
 ],
 "metadata": {
  "kernelspec": {
   "display_name": "Python 3 (ipykernel)",
   "language": "python",
   "name": "python3"
  },
  "language_info": {
   "codemirror_mode": {
    "name": "ipython",
    "version": 3
   },
   "file_extension": ".py",
   "mimetype": "text/x-python",
   "name": "python",
   "nbconvert_exporter": "python",
   "pygments_lexer": "ipython3",
   "version": "3.11.7"
  },
  "toc-autonumbering": false,
  "toc-showmarkdowntxt": false,
  "toc-showtags": false
 },
 "nbformat": 4,
 "nbformat_minor": 5
}
